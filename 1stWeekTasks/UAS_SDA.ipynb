{
  "nbformat": 4,
  "nbformat_minor": 0,
  "metadata": {
    "colab": {
      "provenance": [],
      "include_colab_link": true
    },
    "kernelspec": {
      "name": "python3",
      "display_name": "Python 3"
    },
    "language_info": {
      "name": "python"
    }
  },
  "cells": [
    {
      "cell_type": "markdown",
      "metadata": {
        "id": "view-in-github",
        "colab_type": "text"
      },
      "source": [
        "<a href=\"https://colab.research.google.com/github/finahusnaa/Proyek-SDA-Sistem-Klasikasi-PGK/blob/main/1stWeekTasks/UAS_SDA.ipynb\" target=\"_parent\"><img src=\"https://colab.research.google.com/assets/colab-badge.svg\" alt=\"Open In Colab\"/></a>"
      ]
    },
    {
      "cell_type": "markdown",
      "source": [
        "# Sistem Klasifikasi Penyakit Gagal Ginjal Kronik\n",
        "**Implementasi Struktur Data Tree**  \n"
      ],
      "metadata": {
        "id": "CYVKFUk7rjH_"
      }
    },
    {
      "cell_type": "code",
      "source": [
        "!pip install graphviz openpyxl\n",
        "\n",
        "import pandas as pd\n",
        "from graphviz import Digraph\n",
        "from IPython.display import display\n",
        "import ipywidgets as widgets\n",
        "from datetime import datetime\n",
        "import os\n",
        "\n",
        "class TreeNode:\n",
        "    def __init__(self, feature=None, threshold=None, left=None, right=None, result=None):\n",
        "        self.feature = feature\n",
        "        self.threshold = threshold\n",
        "        self.left = left\n",
        "        self.right = right\n",
        "        self.result = result\n",
        "\n",
        "    def is_leaf(self):\n",
        "        return self.result is not None\n"
      ],
      "metadata": {
        "id": "btxU-X_HrlLQ",
        "colab": {
          "base_uri": "https://localhost:8080/"
        },
        "outputId": "d704e627-2926-46bb-947b-331e40c9f7e4"
      },
      "execution_count": null,
      "outputs": [
        {
          "output_type": "stream",
          "name": "stdout",
          "text": [
            "Requirement already satisfied: graphviz in /usr/local/lib/python3.11/dist-packages (0.20.3)\n",
            "Requirement already satisfied: openpyxl in /usr/local/lib/python3.11/dist-packages (3.1.5)\n",
            "Requirement already satisfied: et-xmlfile in /usr/local/lib/python3.11/dist-packages (from openpyxl) (2.0.0)\n"
          ]
        }
      ]
    },
    {
      "cell_type": "code",
      "source": [
        "manual_tree = TreeNode(\n",
        "    feature=\"Menderita hipertensi\", threshold=0.5,\n",
        "    left=TreeNode(\n",
        "        feature=\"Menderita diabetes melitus\", threshold=0.5,\n",
        "        left=TreeNode(\n",
        "            feature=\"Menggunakan OAINS jangka panjang\", threshold=0.5,\n",
        "            left=TreeNode(result=\"PGK Sangat Tinggi\"),\n",
        "            right=TreeNode(result=\"PGK Tinggi\")\n",
        "        ),\n",
        "        right=TreeNode(\n",
        "            feature=\"Perokok\", threshold=0.5,\n",
        "            left=TreeNode(result=\"PGK Tinggi\"),\n",
        "            right=TreeNode(result=\"PGK Sedang\")\n",
        "        )\n",
        "    ),\n",
        "    right=TreeNode(\n",
        "        feature=\"Memiliki riwayat keluarga PGK\", threshold=0.5,\n",
        "        left=TreeNode(\n",
        "            feature=\"Berusia lebih dari 65 tahun\", threshold=0.5,\n",
        "            left=TreeNode(result=\"PGK Sedang\"),\n",
        "            right=TreeNode(result=\"PGK Ringan\")\n",
        "        ),\n",
        "        right=TreeNode(\n",
        "            feature=\"Memiliki infeksi saluran kemih\", threshold=0.5,\n",
        "            left=TreeNode(result=\"PGK Ringan\"),\n",
        "            right=TreeNode(result=\"Normal\")\n",
        "        )\n",
        "    )\n",
        ")"
      ],
      "metadata": {
        "id": "HDZyyC-prwIo"
      },
      "execution_count": null,
      "outputs": []
    },
    {
      "cell_type": "code",
      "source": [
        "def draw_tree(node, graph=None, node_id=0):\n",
        "    if graph is None:\n",
        "        graph = Digraph()\n",
        "    curr_id = str(node_id)\n",
        "    if node.is_leaf():\n",
        "        graph.node(curr_id, f\"Hasil: {node.result}\", shape='box', style='filled', color='lightblue')\n",
        "    else:\n",
        "        graph.node(curr_id, node.feature)\n",
        "        left_id = str(node_id * 2 + 1)\n",
        "        right_id = str(node_id * 2 + 2)\n",
        "        graph.edge(curr_id, left_id, label='Ya')\n",
        "        graph.edge(curr_id, right_id, label='Tidak')\n",
        "        draw_tree(node.left, graph, node_id * 2 + 1)\n",
        "        draw_tree(node.right, graph, node_id * 2 + 2)\n",
        "    return graph\n",
        "\n",
        "draw_tree(manual_tree)"
      ],
      "metadata": {
        "colab": {
          "base_uri": "https://localhost:8080/",
          "height": 448
        },
        "id": "aKD1oaf7ZafI",
        "outputId": "4a278ac6-e3d6-4c9c-9738-309b9ae3a843"
      },
      "execution_count": null,
      "outputs": [
        {
          "output_type": "execute_result",
          "data": {
            "image/svg+xml": "<?xml version=\"1.0\" encoding=\"UTF-8\" standalone=\"no\"?>\n<!DOCTYPE svg PUBLIC \"-//W3C//DTD SVG 1.1//EN\"\n \"http://www.w3.org/Graphics/SVG/1.1/DTD/svg11.dtd\">\n<!-- Generated by graphviz version 2.43.0 (0)\n -->\n<!-- Title: %3 Pages: 1 -->\n<svg width=\"1117pt\" height=\"305pt\"\n viewBox=\"0.00 0.00 1117.00 305.00\" xmlns=\"http://www.w3.org/2000/svg\" xmlns:xlink=\"http://www.w3.org/1999/xlink\">\n<g id=\"graph0\" class=\"graph\" transform=\"scale(1 1) rotate(0) translate(4 301)\">\n<title>%3</title>\n<polygon fill=\"white\" stroke=\"transparent\" points=\"-4,4 -4,-301 1113,-301 1113,4 -4,4\"/>\n<!-- 0 -->\n<g id=\"node1\" class=\"node\">\n<title>0</title>\n<ellipse fill=\"none\" stroke=\"black\" cx=\"561.5\" cy=\"-279\" rx=\"84.49\" ry=\"18\"/>\n<text text-anchor=\"middle\" x=\"561.5\" y=\"-275.3\" font-family=\"Times,serif\" font-size=\"14.00\">Menderita hipertensi</text>\n</g>\n<!-- 1 -->\n<g id=\"node2\" class=\"node\">\n<title>1</title>\n<ellipse fill=\"none\" stroke=\"black\" cx=\"436.5\" cy=\"-192\" rx=\"107.48\" ry=\"18\"/>\n<text text-anchor=\"middle\" x=\"436.5\" y=\"-188.3\" font-family=\"Times,serif\" font-size=\"14.00\">Menderita diabetes melitus</text>\n</g>\n<!-- 0&#45;&gt;1 -->\n<g id=\"edge1\" class=\"edge\">\n<title>0&#45;&gt;1</title>\n<path fill=\"none\" stroke=\"black\" d=\"M537.4,-261.61C518.07,-248.47 490.74,-229.88 469.4,-215.37\"/>\n<polygon fill=\"black\" stroke=\"black\" points=\"471.19,-212.36 460.95,-209.63 467.25,-218.15 471.19,-212.36\"/>\n<text text-anchor=\"middle\" x=\"514.5\" y=\"-231.8\" font-family=\"Times,serif\" font-size=\"14.00\">Ya</text>\n</g>\n<!-- 2 -->\n<g id=\"node3\" class=\"node\">\n<title>2</title>\n<ellipse fill=\"none\" stroke=\"black\" cx=\"687.5\" cy=\"-192\" rx=\"126.18\" ry=\"18\"/>\n<text text-anchor=\"middle\" x=\"687.5\" y=\"-188.3\" font-family=\"Times,serif\" font-size=\"14.00\">Memiliki riwayat keluarga PGK</text>\n</g>\n<!-- 0&#45;&gt;2 -->\n<g id=\"edge2\" class=\"edge\">\n<title>0&#45;&gt;2</title>\n<path fill=\"none\" stroke=\"black\" d=\"M585.79,-261.61C605.15,-248.55 632.47,-230.12 653.92,-215.65\"/>\n<polygon fill=\"black\" stroke=\"black\" points=\"656.09,-218.41 662.42,-209.92 652.17,-212.61 656.09,-218.41\"/>\n<text text-anchor=\"middle\" x=\"648.5\" y=\"-231.8\" font-family=\"Times,serif\" font-size=\"14.00\">Tidak</text>\n</g>\n<!-- 3 -->\n<g id=\"node4\" class=\"node\">\n<title>3</title>\n<ellipse fill=\"none\" stroke=\"black\" cx=\"235.5\" cy=\"-105\" rx=\"146.77\" ry=\"18\"/>\n<text text-anchor=\"middle\" x=\"235.5\" y=\"-101.3\" font-family=\"Times,serif\" font-size=\"14.00\">Menggunakan OAINS jangka panjang</text>\n</g>\n<!-- 1&#45;&gt;3 -->\n<g id=\"edge3\" class=\"edge\">\n<title>1&#45;&gt;3</title>\n<path fill=\"none\" stroke=\"black\" d=\"M398.69,-175.01C366.26,-161.3 319.33,-141.45 284.11,-126.56\"/>\n<polygon fill=\"black\" stroke=\"black\" points=\"285.08,-123.17 274.51,-122.5 282.36,-129.61 285.08,-123.17\"/>\n<text text-anchor=\"middle\" x=\"356.5\" y=\"-144.8\" font-family=\"Times,serif\" font-size=\"14.00\">Ya</text>\n</g>\n<!-- 4 -->\n<g id=\"node5\" class=\"node\">\n<title>4</title>\n<ellipse fill=\"none\" stroke=\"black\" cx=\"440.5\" cy=\"-105\" rx=\"40.09\" ry=\"18\"/>\n<text text-anchor=\"middle\" x=\"440.5\" y=\"-101.3\" font-family=\"Times,serif\" font-size=\"14.00\">Perokok</text>\n</g>\n<!-- 1&#45;&gt;4 -->\n<g id=\"edge4\" class=\"edge\">\n<title>1&#45;&gt;4</title>\n<path fill=\"none\" stroke=\"black\" d=\"M437.31,-173.8C437.86,-162.16 438.59,-146.55 439.22,-133.24\"/>\n<polygon fill=\"black\" stroke=\"black\" points=\"442.72,-133.33 439.69,-123.18 435.73,-133 442.72,-133.33\"/>\n<text text-anchor=\"middle\" x=\"455.5\" y=\"-144.8\" font-family=\"Times,serif\" font-size=\"14.00\">Tidak</text>\n</g>\n<!-- 5 -->\n<g id=\"node10\" class=\"node\">\n<title>5</title>\n<ellipse fill=\"none\" stroke=\"black\" cx=\"686.5\" cy=\"-105\" rx=\"106.68\" ry=\"18\"/>\n<text text-anchor=\"middle\" x=\"686.5\" y=\"-101.3\" font-family=\"Times,serif\" font-size=\"14.00\">Berusia lebih dari 65 tahun</text>\n</g>\n<!-- 2&#45;&gt;5 -->\n<g id=\"edge9\" class=\"edge\">\n<title>2&#45;&gt;5</title>\n<path fill=\"none\" stroke=\"black\" d=\"M687.3,-173.8C687.16,-162.16 686.98,-146.55 686.82,-133.24\"/>\n<polygon fill=\"black\" stroke=\"black\" points=\"690.32,-133.13 686.7,-123.18 683.32,-133.22 690.32,-133.13\"/>\n<text text-anchor=\"middle\" x=\"695.5\" y=\"-144.8\" font-family=\"Times,serif\" font-size=\"14.00\">Ya</text>\n</g>\n<!-- 6 -->\n<g id=\"node11\" class=\"node\">\n<title>6</title>\n<ellipse fill=\"none\" stroke=\"black\" cx=\"934.5\" cy=\"-105\" rx=\"123.48\" ry=\"18\"/>\n<text text-anchor=\"middle\" x=\"934.5\" y=\"-101.3\" font-family=\"Times,serif\" font-size=\"14.00\">Memiliki infeksi saluran kemih</text>\n</g>\n<!-- 2&#45;&gt;6 -->\n<g id=\"edge10\" class=\"edge\">\n<title>2&#45;&gt;6</title>\n<path fill=\"none\" stroke=\"black\" d=\"M733.38,-175.21C774.5,-161.06 834.91,-140.27 878.79,-125.17\"/>\n<polygon fill=\"black\" stroke=\"black\" points=\"880.13,-128.41 888.45,-121.85 877.85,-121.79 880.13,-128.41\"/>\n<text text-anchor=\"middle\" x=\"842.5\" y=\"-144.8\" font-family=\"Times,serif\" font-size=\"14.00\">Tidak</text>\n</g>\n<!-- 7 -->\n<g id=\"node6\" class=\"node\">\n<title>7</title>\n<polygon fill=\"lightblue\" stroke=\"lightblue\" points=\"159,-36 0,-36 0,0 159,0 159,-36\"/>\n<text text-anchor=\"middle\" x=\"79.5\" y=\"-14.3\" font-family=\"Times,serif\" font-size=\"14.00\">Hasil: PGK Sangat Tinggi</text>\n</g>\n<!-- 3&#45;&gt;7 -->\n<g id=\"edge5\" class=\"edge\">\n<title>3&#45;&gt;7</title>\n<path fill=\"none\" stroke=\"black\" d=\"M204.68,-87.21C180.37,-73.96 146.28,-55.39 119.81,-40.96\"/>\n<polygon fill=\"black\" stroke=\"black\" points=\"121.25,-37.76 110.79,-36.05 117.9,-43.91 121.25,-37.76\"/>\n<text text-anchor=\"middle\" x=\"175.5\" y=\"-57.8\" font-family=\"Times,serif\" font-size=\"14.00\">Ya</text>\n</g>\n<!-- 8 -->\n<g id=\"node7\" class=\"node\">\n<title>8</title>\n<polygon fill=\"lightblue\" stroke=\"lightblue\" points=\"296,-36 177,-36 177,0 296,0 296,-36\"/>\n<text text-anchor=\"middle\" x=\"236.5\" y=\"-14.3\" font-family=\"Times,serif\" font-size=\"14.00\">Hasil: PGK Tinggi</text>\n</g>\n<!-- 3&#45;&gt;8 -->\n<g id=\"edge6\" class=\"edge\">\n<title>3&#45;&gt;8</title>\n<path fill=\"none\" stroke=\"black\" d=\"M235.7,-86.8C235.84,-75.16 236.02,-59.55 236.18,-46.24\"/>\n<polygon fill=\"black\" stroke=\"black\" points=\"239.68,-46.22 236.3,-36.18 232.68,-46.13 239.68,-46.22\"/>\n<text text-anchor=\"middle\" x=\"252.5\" y=\"-57.8\" font-family=\"Times,serif\" font-size=\"14.00\">Tidak</text>\n</g>\n<!-- 9 -->\n<g id=\"node8\" class=\"node\">\n<title>9</title>\n<polygon fill=\"lightblue\" stroke=\"lightblue\" points=\"433,-36 314,-36 314,0 433,0 433,-36\"/>\n<text text-anchor=\"middle\" x=\"373.5\" y=\"-14.3\" font-family=\"Times,serif\" font-size=\"14.00\">Hasil: PGK Tinggi</text>\n</g>\n<!-- 4&#45;&gt;9 -->\n<g id=\"edge7\" class=\"edge\">\n<title>4&#45;&gt;9</title>\n<path fill=\"none\" stroke=\"black\" d=\"M427.58,-87.61C417.85,-75.27 404.35,-58.14 393.27,-44.08\"/>\n<polygon fill=\"black\" stroke=\"black\" points=\"396.01,-41.9 387.07,-36.21 390.51,-46.23 396.01,-41.9\"/>\n<text text-anchor=\"middle\" x=\"419.5\" y=\"-57.8\" font-family=\"Times,serif\" font-size=\"14.00\">Ya</text>\n</g>\n<!-- 10 -->\n<g id=\"node9\" class=\"node\">\n<title>10</title>\n<polygon fill=\"lightblue\" stroke=\"lightblue\" points=\"574,-36 451,-36 451,0 574,0 574,-36\"/>\n<text text-anchor=\"middle\" x=\"512.5\" y=\"-14.3\" font-family=\"Times,serif\" font-size=\"14.00\">Hasil: PGK Sedang</text>\n</g>\n<!-- 4&#45;&gt;10 -->\n<g id=\"edge8\" class=\"edge\">\n<title>4&#45;&gt;10</title>\n<path fill=\"none\" stroke=\"black\" d=\"M454.04,-88.01C464.53,-75.63 479.25,-58.25 491.3,-44.03\"/>\n<polygon fill=\"black\" stroke=\"black\" points=\"494.24,-45.98 498.03,-36.08 488.9,-41.45 494.24,-45.98\"/>\n<text text-anchor=\"middle\" x=\"497.5\" y=\"-57.8\" font-family=\"Times,serif\" font-size=\"14.00\">Tidak</text>\n</g>\n<!-- 11 -->\n<g id=\"node12\" class=\"node\">\n<title>11</title>\n<polygon fill=\"lightblue\" stroke=\"lightblue\" points=\"715,-36 592,-36 592,0 715,0 715,-36\"/>\n<text text-anchor=\"middle\" x=\"653.5\" y=\"-14.3\" font-family=\"Times,serif\" font-size=\"14.00\">Hasil: PGK Sedang</text>\n</g>\n<!-- 5&#45;&gt;11 -->\n<g id=\"edge11\" class=\"edge\">\n<title>5&#45;&gt;11</title>\n<path fill=\"none\" stroke=\"black\" d=\"M679.82,-86.8C675.26,-75.05 669.12,-59.24 663.92,-45.84\"/>\n<polygon fill=\"black\" stroke=\"black\" points=\"667.05,-44.23 660.17,-36.18 660.52,-46.76 667.05,-44.23\"/>\n<text text-anchor=\"middle\" x=\"680.5\" y=\"-57.8\" font-family=\"Times,serif\" font-size=\"14.00\">Ya</text>\n</g>\n<!-- 12 -->\n<g id=\"node13\" class=\"node\">\n<title>12</title>\n<polygon fill=\"lightblue\" stroke=\"lightblue\" points=\"855.5,-36 733.5,-36 733.5,0 855.5,0 855.5,-36\"/>\n<text text-anchor=\"middle\" x=\"794.5\" y=\"-14.3\" font-family=\"Times,serif\" font-size=\"14.00\">Hasil: PGK Ringan</text>\n</g>\n<!-- 5&#45;&gt;12 -->\n<g id=\"edge12\" class=\"edge\">\n<title>5&#45;&gt;12</title>\n<path fill=\"none\" stroke=\"black\" d=\"M707.84,-87.21C724.15,-74.37 746.83,-56.52 764.9,-42.3\"/>\n<polygon fill=\"black\" stroke=\"black\" points=\"767.14,-44.98 772.84,-36.05 762.81,-39.48 767.14,-44.98\"/>\n<text text-anchor=\"middle\" x=\"763.5\" y=\"-57.8\" font-family=\"Times,serif\" font-size=\"14.00\">Tidak</text>\n</g>\n<!-- 13 -->\n<g id=\"node14\" class=\"node\">\n<title>13</title>\n<polygon fill=\"lightblue\" stroke=\"lightblue\" points=\"995.5,-36 873.5,-36 873.5,0 995.5,0 995.5,-36\"/>\n<text text-anchor=\"middle\" x=\"934.5\" y=\"-14.3\" font-family=\"Times,serif\" font-size=\"14.00\">Hasil: PGK Ringan</text>\n</g>\n<!-- 6&#45;&gt;13 -->\n<g id=\"edge13\" class=\"edge\">\n<title>6&#45;&gt;13</title>\n<path fill=\"none\" stroke=\"black\" d=\"M934.5,-86.8C934.5,-75.16 934.5,-59.55 934.5,-46.24\"/>\n<polygon fill=\"black\" stroke=\"black\" points=\"938,-46.18 934.5,-36.18 931,-46.18 938,-46.18\"/>\n<text text-anchor=\"middle\" x=\"942.5\" y=\"-57.8\" font-family=\"Times,serif\" font-size=\"14.00\">Ya</text>\n</g>\n<!-- 14 -->\n<g id=\"node15\" class=\"node\">\n<title>14</title>\n<polygon fill=\"lightblue\" stroke=\"lightblue\" points=\"1109,-36 1014,-36 1014,0 1109,0 1109,-36\"/>\n<text text-anchor=\"middle\" x=\"1061.5\" y=\"-14.3\" font-family=\"Times,serif\" font-size=\"14.00\">Hasil: Normal</text>\n</g>\n<!-- 6&#45;&gt;14 -->\n<g id=\"edge14\" class=\"edge\">\n<title>6&#45;&gt;14</title>\n<path fill=\"none\" stroke=\"black\" d=\"M959.59,-87.21C979.03,-74.19 1006.17,-56.03 1027.55,-41.72\"/>\n<polygon fill=\"black\" stroke=\"black\" points=\"1029.66,-44.52 1036.03,-36.05 1025.77,-38.7 1029.66,-44.52\"/>\n<text text-anchor=\"middle\" x=\"1022.5\" y=\"-57.8\" font-family=\"Times,serif\" font-size=\"14.00\">Tidak</text>\n</g>\n</g>\n</svg>\n",
            "text/plain": [
              "<graphviz.graphs.Digraph at 0x79500cb83610>"
            ]
          },
          "metadata": {},
          "execution_count": 3
        }
      ]
    },
    {
      "cell_type": "code",
      "source": [
        "questions = {\n",
        "    'hipertensi': 'Apakah Anda menderita hipertensi?',\n",
        "    'diabetes_melitus': 'Apakah Anda memiliki diabetes melitus?',\n",
        "    'penggunaan_oains': 'Apakah Anda menggunakan obat anti-inflamasi non-steroid (OAINS) jangka panjang?',\n",
        "    'merokok': 'Apakah Anda merokok?',\n",
        "    'riwayat_keluarga_pgk': 'Apakah Anda memiliki riwayat keluarga PGK?',\n",
        "    'usia_lebih_60': 'Apakah usia Anda di atas 60 tahun?',\n",
        "    'infeksi_saluran_kemih': 'Apakah Anda memiliki infeksi saluran kemih berulang?'\n",
        "}\n",
        "\n",
        "def tanya_ya_tidak(prompt):\n",
        "    while True:\n",
        "        jawab = input(f\"{prompt} (ya/tidak): \").strip().lower()\n",
        "        if jawab == 'ya':\n",
        "            return 0\n",
        "        elif jawab == 'tidak':\n",
        "            return 1\n",
        "        else:\n",
        "            print(\"Masukkan hanya 'ya' atau 'tidak'.\")"
      ],
      "metadata": {
        "id": "Mo6Jzv-nrzuL"
      },
      "execution_count": null,
      "outputs": []
    },
    {
      "cell_type": "code",
      "source": [
        "def simpan_riwayat(data, hasil):\n",
        "    filename = \"riwayat_prediksi_pgk.xlsx\"\n",
        "    row = data.copy()\n",
        "    row[\"hasil_prediksi\"] = hasil\n",
        "    row[\"waktu\"] = datetime.now().strftime(\"%Y-%m-%d %H:%M:%S\")\n",
        "\n",
        "    df_new = pd.DataFrame([row])\n",
        "    if os.path.exists(filename):\n",
        "        df_lama = pd.read_excel(filename)\n",
        "        df = pd.concat([df_lama, df_new], ignore_index=True)\n",
        "    else:\n",
        "        df = df_new\n",
        "    df.to_excel(filename, index=False)"
      ],
      "metadata": {
        "id": "-umO4OB2r3Fq"
      },
      "execution_count": null,
      "outputs": []
    },
    {
      "cell_type": "code",
      "source": [
        "def jalankan_klasifikasi(node, jawaban_user):\n",
        "    if node.is_leaf():\n",
        "        print(f\"\\n>> Hasil Prediksi: {node.result}\")\n",
        "        simpan_riwayat(jawaban_user, node.result)\n",
        "        return\n",
        "    key = node.feature\n",
        "    pertanyaan = questions.get(key, key)\n",
        "    jawaban = tanya_ya_tidak(pertanyaan)\n",
        "    jawaban_user[key] = jawaban\n",
        "    if jawaban == 1 :\n",
        "        jalankan_klasifikasi(node.left, jawaban_user)\n",
        "    else:\n",
        "        jalankan_klasifikasi(node.right, jawaban_user)"
      ],
      "metadata": {
        "id": "_XfOIJz0r575"
      },
      "execution_count": null,
      "outputs": []
    },
    {
      "cell_type": "code",
      "source": [
        "print(\"=== Sistem Klasifikasi Penyakit Gagal Ginjal Kronik ===\\n\")\n",
        "print(\"Jawab pertanyaan berikut sesuai dengan kondisi yang sedang kamu alami ya!\\n\")\n",
        "data_input = {}\n",
        "jalankan_klasifikasi(manual_tree, data_input)\n"
      ],
      "metadata": {
        "colab": {
          "base_uri": "https://localhost:8080/"
        },
        "id": "X4-sAWK6r8nx",
        "outputId": "60918bc2-d865-4f74-e20b-fa7c67abd0fc"
      },
      "execution_count": null,
      "outputs": [
        {
          "output_type": "stream",
          "name": "stdout",
          "text": [
            "=== Sistem Klasifikasi Penyakit Gagal Ginjal Kronik ===\n",
            "\n",
            "Jawab pertanyaan berikut sesuai dengan kondisi yang sedang kamu alami ya!\n",
            "\n",
            "Menderita hipertensi (ya/tidak): ya\n",
            "Memiliki riwayat keluarga PGK (ya/tidak): ya\n",
            "Memiliki infeksi saluran kemih (ya/tidak): tidak\n",
            "\n",
            ">> Hasil Prediksi: PGK Ringan\n"
          ]
        }
      ]
    }
  ]
}